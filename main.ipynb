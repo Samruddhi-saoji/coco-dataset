{
 "cells": [
  {
   "cell_type": "code",
   "execution_count": null,
   "metadata": {},
   "outputs": [],
   "source": [
    "#importing the libraries\n",
    "\n",
    "import tensorflow as tf\n",
    "import tensorflow_datasets as tfds\n",
    "from tensorflow import keras\n",
    "from keras.applications.resnet import ResNet50\n",
    "from keras.applications.resnet import preprocess_input\n",
    "\n",
    "from keras import models, Sequential #model\n",
    "from keras.layers import Dense, Flatten #layers"
   ]
  },
  {
   "attachments": {},
   "cell_type": "markdown",
   "metadata": {},
   "source": [
    "## The coco dataset"
   ]
  },
  {
   "cell_type": "code",
   "execution_count": null,
   "metadata": {},
   "outputs": [],
   "source": [
    "####################### Load the COCO dataset ###################################\n",
    "path = \"C:\\\\Users\\\\Samruddhi\\\\Desktop\\\\Neural Networks\\\\datasets\"  #dataset should be downloaded here\n",
    "\n",
    "dataset, info = tfds.load('coco', split='train', with_info=True, data_dir = path, as_supervised=True)\n",
    "    #as_supervised = want labels as well?\n",
    "\n",
    "# Total number of examples in the dataset\n",
    "total = info.splits['train'].num_examples\n",
    "\n",
    "\n",
    "\n",
    "########################### split into training, validation and test sets ################\n",
    "# proportions\n",
    "num_train = int(0.8 * total) # 80%\n",
    "num_val = int(0.1 * total)   # 10%\n",
    "num_test = int(0.1 * total)  # 10%\n",
    "\n",
    "# Shuffle the dataset\n",
    "dataset = dataset.shuffle(total, seed=42, reshuffle_each_iteration=False)\n",
    "\n",
    "# Split \n",
    "training_set = dataset.take(num_train)\n",
    "val_set = dataset.skip(num_train).take(num_val)\n",
    "test_set = dataset.skip(num_train + num_val).take(num_test)\n",
    "\n",
    "\n",
    "########################### data pre-processing ####################################\n",
    "def preprocess_image(image, label):\n",
    "    image = preprocess_input(image)\n",
    "    return image, label\n",
    "\n",
    "training_set = training_set.map(preprocess_image)\n",
    "val_set = val_set.map(preprocess_image)\n",
    "test_set = test_set.map(preprocess_image)\n",
    "\n",
    "\n",
    "########################### divide into batches #########################################\n",
    "batch_size = 32\n",
    "training_set = training_set.batch(batch_size)\n",
    "val_set = val_set.batch(batch_size)\n",
    "test_set = test_set.batch(batch_size)"
   ]
  },
  {
   "attachments": {},
   "cell_type": "markdown",
   "metadata": {},
   "source": [
    "## The model"
   ]
  },
  {
   "cell_type": "code",
   "execution_count": null,
   "metadata": {},
   "outputs": [],
   "source": [
    "# pre-trained ResNet50 model\n",
    "conv_base = ResNet50(weights='imagenet', include_top=False, input_shape=(224, 224, 3))\n",
    "\n",
    "\n",
    "# custom model \n",
    "model = Sequential([\n",
    "    conv_base,\n",
    "    Flatten(),\n",
    "    Dense(100, activation = \"relu\"),\n",
    "    Dense(80, activation = \"softmax\") #output layer\n",
    "])\n"
   ]
  },
  {
   "attachments": {},
   "cell_type": "markdown",
   "metadata": {},
   "source": [
    "## Training"
   ]
  },
  {
   "cell_type": "code",
   "execution_count": null,
   "metadata": {},
   "outputs": [],
   "source": [
    "#freeze the convo base\n",
    "conv_base.trainable = False\n",
    "\n",
    "#compile\n",
    "model.compile(optimizer = 'adam', loss = keras.losses.SparseCategoricalCrossentropy(), metrics = ['accuracy'])\n",
    "\n",
    "#training and validation\n",
    "model.fit_generator(training_set, validation_data= val_set, epochs = 15)\n",
    "\n",
    "#save the trained model\n",
    "model.save('trained_model.h5')"
   ]
  },
  {
   "attachments": {},
   "cell_type": "markdown",
   "metadata": {},
   "source": [
    "## Testing"
   ]
  },
  {
   "cell_type": "code",
   "execution_count": null,
   "metadata": {},
   "outputs": [],
   "source": [
    "################ testing ########################\n",
    "# Load the trained model\n",
    "model = models.load_model('trained_model.h5')\n",
    "\n",
    "#make the predictions\n",
    "predictions = model.predict(test_set)\n",
    "\n",
    "# The predicted labels\n",
    "predicted_labels = tf.argmax(predictions, axis=1).numpy()\n",
    "\n",
    "# The true labels\n",
    "true_labels = tf.concat([y for x, y in test_set], axis=0).numpy()\n",
    "\n",
    "# Calculate accuracy\n",
    "accuracy = (predicted_labels == true_labels).mean()\n",
    "print(\"Accuracy:\", accuracy)"
   ]
  }
 ],
 "metadata": {
  "kernelspec": {
   "display_name": "Python 3",
   "language": "python",
   "name": "python3"
  },
  "language_info": {
   "codemirror_mode": {
    "name": "ipython",
    "version": 3
   },
   "file_extension": ".py",
   "mimetype": "text/x-python",
   "name": "python",
   "nbconvert_exporter": "python",
   "pygments_lexer": "ipython3",
   "version": "3.9.2"
  },
  "orig_nbformat": 4
 },
 "nbformat": 4,
 "nbformat_minor": 2
}
